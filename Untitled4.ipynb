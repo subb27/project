{
  "nbformat": 4,
  "nbformat_minor": 0,
  "metadata": {
    "colab": {
      "name": "Untitled4.ipynb",
      "provenance": []
    },
    "kernelspec": {
      "name": "python3",
      "display_name": "Python 3"
    },
    "language_info": {
      "name": "python"
    }
  },
  "cells": [
    {
      "cell_type": "code",
      "metadata": {
        "id": "TQEUY5vXbuVs"
      },
      "source": [
        "def built_model(hp):\n",
        "  model = keras.sequential([\n",
        "   keras.layers.conv2D(\n",
        "       filters=hp.Int('conv_1_filter',min_value=32, max_value=128, step=16),\n",
        "       kernel_size=hp.choice('conv_1_kernel',values = [3,5]),\n",
        "       activation='relu',\n",
        "       input_shape=(28,28,1)\n",
        "   ),\n",
        "   keras.layers.conv2D(\n",
        "       filters=hp.Int('conv_2_filter', min_value=32, max_value=64, step=16),\n",
        "       kernel_size=hp.choice('conv_2_kernel', values = [3,5]),\n",
        "       activation='relu'\n",
        "   ),\n",
        "   keras.layers.Flatten(),\n",
        "   keras.layers.Dense(\n",
        "       units=hp.Int('dense_1_units', min_value=32, max_value=128, step=16),\n",
        "       activation='relu'\n",
        "   ),\n",
        "   keras.layers.Dense(10, activation='softmax')#output layer\n",
        "  ])\n",
        "\n",
        "  model.compile(optimizer=keras.optimizers.Adam(hp.choice('learning_rate', values=[1e-2, 1e-3])),\n",
        "                loss='sparse_categorical_crossentropy',\n",
        "                metrics=['accuracy'])\n",
        "  return model                                     \n"
      ],
      "execution_count": 1,
      "outputs": []
    }
  ]
}